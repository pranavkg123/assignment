{
  "nbformat": 4,
  "nbformat_minor": 0,
  "metadata": {
    "colab": {
      "name": "Day -2",
      "provenance": [],
      "collapsed_sections": [],
      "authorship_tag": "ABX9TyP+wddLY2slURUfju7S9qPQ",
      "include_colab_link": true
    },
    "kernelspec": {
      "name": "python3",
      "display_name": "Python 3"
    }
  },
  "cells": [
    {
      "cell_type": "markdown",
      "metadata": {
        "id": "view-in-github",
        "colab_type": "text"
      },
      "source": [
        "<a href=\"https://colab.research.google.com/github/pranavkg123/assignment/blob/main/Day_2.ipynb\" target=\"_parent\"><img src=\"https://colab.research.google.com/assets/colab-badge.svg\" alt=\"Open In Colab\"/></a>"
      ]
    },
    {
      "cell_type": "code",
      "metadata": {
        "colab": {
          "base_uri": "https://localhost:8080/"
        },
        "id": "mekSp7ooPGnl",
        "outputId": "1e9f1eb7-f2ad-4863-da7c-8affaeb84a07"
      },
      "source": [
        "print (\"welcome to python\")"
      ],
      "execution_count": null,
      "outputs": [
        {
          "output_type": "stream",
          "text": [
            "welcome to python\n"
          ],
          "name": "stdout"
        }
      ]
    },
    {
      "cell_type": "code",
      "metadata": {
        "colab": {
          "base_uri": "https://localhost:8080/"
        },
        "id": "LdwFCpKeSAav",
        "outputId": "b1ac274b-bfec-4dd6-c0eb-77f20fdf905d"
      },
      "source": [
        "5+5"
      ],
      "execution_count": null,
      "outputs": [
        {
          "output_type": "execute_result",
          "data": {
            "text/plain": [
              "10"
            ]
          },
          "metadata": {
            "tags": []
          },
          "execution_count": 7
        }
      ]
    },
    {
      "cell_type": "code",
      "metadata": {
        "colab": {
          "base_uri": "https://localhost:8080/"
        },
        "id": "7eLTp8SNSNp2",
        "outputId": "f424e4d5-4d5e-4ffd-8e23-5c453ec01903"
      },
      "source": [
        "5-5"
      ],
      "execution_count": null,
      "outputs": [
        {
          "output_type": "execute_result",
          "data": {
            "text/plain": [
              "0"
            ]
          },
          "metadata": {
            "tags": []
          },
          "execution_count": 10
        }
      ]
    },
    {
      "cell_type": "code",
      "metadata": {
        "colab": {
          "base_uri": "https://localhost:8080/"
        },
        "id": "KCcht5uPSDF8",
        "outputId": "8cfffa6a-ecab-4321-f9cc-8286c95bdc70"
      },
      "source": [
        "2*6"
      ],
      "execution_count": null,
      "outputs": [
        {
          "output_type": "execute_result",
          "data": {
            "text/plain": [
              "12"
            ]
          },
          "metadata": {
            "tags": []
          },
          "execution_count": 8
        }
      ]
    },
    {
      "cell_type": "code",
      "metadata": {
        "colab": {
          "base_uri": "https://localhost:8080/"
        },
        "id": "JXSFfx-lSH1B",
        "outputId": "1ee576ad-495f-4680-a531-9b84cafe7668"
      },
      "source": [
        "10/2"
      ],
      "execution_count": null,
      "outputs": [
        {
          "output_type": "execute_result",
          "data": {
            "text/plain": [
              "5.0"
            ]
          },
          "metadata": {
            "tags": []
          },
          "execution_count": 9
        }
      ]
    },
    {
      "cell_type": "code",
      "metadata": {
        "colab": {
          "base_uri": "https://localhost:8080/"
        },
        "id": "fxYI5iXUS_dR",
        "outputId": "e822b21a-386d-45ba-abbb-e9bb1249f422"
      },
      "source": [
        "print(int(input(\"enter number\"))*3)"
      ],
      "execution_count": null,
      "outputs": [
        {
          "output_type": "stream",
          "text": [
            "enter number5\n",
            "15\n"
          ],
          "name": "stdout"
        }
      ]
    },
    {
      "cell_type": "code",
      "metadata": {
        "colab": {
          "base_uri": "https://localhost:8080/"
        },
        "id": "NA3_mRKeT9Kz",
        "outputId": "38aae545-10c3-4578-e7c8-b9ae44946edf"
      },
      "source": [
        "print(int(input(\"enter the number\"))+7)"
      ],
      "execution_count": null,
      "outputs": [
        {
          "output_type": "stream",
          "text": [
            "enter the number3\n",
            "10\n"
          ],
          "name": "stdout"
        }
      ]
    },
    {
      "cell_type": "code",
      "metadata": {
        "colab": {
          "base_uri": "https://localhost:8080/"
        },
        "id": "aUWYtTpoUWU5",
        "outputId": "68887288-268b-4807-b25f-1c509fb8e3db"
      },
      "source": [
        "print(int(input(\"enter the number\"))-4)"
      ],
      "execution_count": null,
      "outputs": [
        {
          "output_type": "stream",
          "text": [
            "enter the number10\n",
            "6\n"
          ],
          "name": "stdout"
        }
      ]
    },
    {
      "cell_type": "code",
      "metadata": {
        "colab": {
          "base_uri": "https://localhost:8080/"
        },
        "id": "pjfGvc-CUum4",
        "outputId": "39c4fc8a-1505-45c1-8cc3-2e3b9e2ecb2f"
      },
      "source": [
        "print(int(input(\"enter the number \"))/2)"
      ],
      "execution_count": null,
      "outputs": [
        {
          "output_type": "stream",
          "text": [
            "enter the number 8\n",
            "4.0\n"
          ],
          "name": "stdout"
        }
      ]
    },
    {
      "cell_type": "code",
      "metadata": {
        "colab": {
          "base_uri": "https://localhost:8080/"
        },
        "id": "7tqvxIInWDa1",
        "outputId": "85023869-b1c7-4737-d501-cbfef9aec9b6"
      },
      "source": [
        "A=int(input(\"enter the number\"))\n",
        "B=int(input(\"enter the number\"))\n",
        "print(A+B)\n",
        "print(A-B)\n",
        "print(A*B)\n",
        "print(A/B)"
      ],
      "execution_count": null,
      "outputs": [
        {
          "output_type": "stream",
          "text": [
            "enter the number5\n",
            "enter the number10\n",
            "15\n",
            "-5\n",
            "50\n",
            "0.5\n"
          ],
          "name": "stdout"
        }
      ]
    },
    {
      "cell_type": "code",
      "metadata": {
        "colab": {
          "base_uri": "https://localhost:8080/"
        },
        "id": "6GlQmPWpXUIs",
        "outputId": "958f993b-896b-4b75-d891-2e01e994c243"
      },
      "source": [
        "a=10\n",
        "b=20\n",
        "c=a+b\n",
        "print(c)\n",
        "c=a-b\n",
        "print(c)\n",
        "c=a/b\n",
        "print(c)\n",
        "c=a*b\n",
        "print(c)"
      ],
      "execution_count": null,
      "outputs": [
        {
          "output_type": "stream",
          "text": [
            "30\n",
            "-10\n",
            "0.5\n",
            "200\n"
          ],
          "name": "stdout"
        }
      ]
    }
  ]
}