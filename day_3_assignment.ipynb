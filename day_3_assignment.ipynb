{
  "nbformat": 4,
  "nbformat_minor": 0,
  "metadata": {
    "colab": {
      "name": "day 3-assignment",
      "provenance": [],
      "collapsed_sections": [],
      "include_colab_link": true
    },
    "kernelspec": {
      "name": "python3",
      "display_name": "Python 3"
    }
  },
  "cells": [
    {
      "cell_type": "markdown",
      "metadata": {
        "id": "view-in-github",
        "colab_type": "text"
      },
      "source": [
        "<a href=\"https://colab.research.google.com/github/pranavkg123/assignment/blob/main/day_3_assignment.ipynb\" target=\"_parent\"><img src=\"https://colab.research.google.com/assets/colab-badge.svg\" alt=\"Open In Colab\"/></a>"
      ]
    },
    {
      "cell_type": "markdown",
      "metadata": {
        "id": "IUKFd51IGV9V"
      },
      "source": [
        "assignment-1"
      ]
    },
    {
      "cell_type": "code",
      "metadata": {
        "colab": {
          "base_uri": "https://localhost:8080/"
        },
        "id": "r2p1i6uM_Lf6",
        "outputId": "1bf6089c-58e7-4610-beb6-b875345a2a89"
      },
      "source": [
        "username='pranav'\n",
        "password='1234'\n",
        "onetimepassword='0987'\n",
        "name=input(\"enter  username\" )\n",
        "userpassword=input(\"enter the password\")\n",
        "OTP=input(\"enter the OTP\")\n",
        "if name==username:\n",
        " if userpassword==password:\n",
        "     print(\"welcome\" +username)\n",
        "     if OTP==onetimepassword:\n",
        "       print(\"login sucessfull\")\n",
        "     else :\n",
        "       print(\"incorrect otp\")\n",
        " else :\n",
        "     print(\"incorrect password\")\n",
        "else :\n",
        "  print(\"unknown username\")\n",
        "\n",
        "\n",
        "  \n"
      ],
      "execution_count": null,
      "outputs": [
        {
          "output_type": "stream",
          "text": [
            "enter  usernamepranav\n",
            "enter the password1234\n",
            "enter the OTP0987\n",
            "welcomepranav\n",
            "login sucessfull\n"
          ],
          "name": "stdout"
        }
      ]
    },
    {
      "cell_type": "markdown",
      "metadata": {
        "id": "-Qnmow88GeJc"
      },
      "source": [
        "assignment-2"
      ]
    },
    {
      "cell_type": "code",
      "metadata": {
        "colab": {
          "base_uri": "https://localhost:8080/"
        },
        "id": "rHSrUPO_F4Ay",
        "outputId": "09ec7448-8c21-4a9e-9489-c9a760d25b3e"
      },
      "source": [
        "for n in range(20) :\n",
        "  if n%2==0 :\n",
        "    print(n)"
      ],
      "execution_count": null,
      "outputs": [
        {
          "output_type": "stream",
          "text": [
            "0\n",
            "2\n",
            "4\n",
            "6\n",
            "8\n",
            "10\n",
            "12\n",
            "14\n",
            "16\n",
            "18\n"
          ],
          "name": "stdout"
        }
      ]
    },
    {
      "cell_type": "markdown",
      "metadata": {
        "id": "-MLmHuDJ_ebi"
      },
      "source": [
        "assignment 3"
      ]
    },
    {
      "cell_type": "code",
      "metadata": {
        "id": "ViGxgZq4BaWE",
        "colab": {
          "base_uri": "https://localhost:8080/"
        },
        "outputId": "703b5371-2bd2-47e3-a52a-77a1a3e55668"
      },
      "source": [
        "studentsmarks={\n",
        "    \"raju\":95,\n",
        "    \"somu\":45,\n",
        "    \"lalu\":68,\n",
        "    \"kalu\":50,\n",
        "    \"joan\":80,\n",
        "}\n",
        "studentsmarks[\"raju\"]"
      ],
      "execution_count": null,
      "outputs": [
        {
          "output_type": "execute_result",
          "data": {
            "text/plain": [
              "95"
            ]
          },
          "metadata": {
            "tags": []
          },
          "execution_count": 4
        }
      ]
    },
    {
      "cell_type": "code",
      "metadata": {
        "colab": {
          "base_uri": "https://localhost:8080/"
        },
        "id": "1kI0Wee-A_zo",
        "outputId": "a4cdf0d8-6031-4092-bf86-202238f204d2"
      },
      "source": [
        "studentsmarks.keys()"
      ],
      "execution_count": null,
      "outputs": [
        {
          "output_type": "execute_result",
          "data": {
            "text/plain": [
              "dict_keys(['raju', 'somu', 'lalu', 'kalu', 'joan'])"
            ]
          },
          "metadata": {
            "tags": []
          },
          "execution_count": 5
        }
      ]
    },
    {
      "cell_type": "code",
      "metadata": {
        "colab": {
          "base_uri": "https://localhost:8080/"
        },
        "id": "nT6UBAGFBKql",
        "outputId": "49e816d3-4760-470c-9df3-dce7bcbbd83c"
      },
      "source": [
        "for key in studentsmarks.keys():\n",
        "  if studentsmarks[key]<60:\n",
        "    print(key+\"has failed\")\n"
      ],
      "execution_count": null,
      "outputs": [
        {
          "output_type": "stream",
          "text": [
            "somuhas failed\n",
            "kaluhas failed\n"
          ],
          "name": "stdout"
        }
      ]
    }
  ]
}